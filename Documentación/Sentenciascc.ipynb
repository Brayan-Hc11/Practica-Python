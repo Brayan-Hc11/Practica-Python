{
  "metadata": {
    "language_info": {
      "codemirror_mode": {
        "name": "python",
        "version": 3
      },
      "file_extension": ".py",
      "mimetype": "text/x-python",
      "name": "python",
      "nbconvert_exporter": "python",
      "pygments_lexer": "ipython3",
      "version": "3.8"
    },
    "kernelspec": {
      "name": "python",
      "display_name": "Python (Pyodide)",
      "language": "python"
    }
  },
  "nbformat_minor": 4,
  "nbformat": 4,
  "cells": [
    {
      "cell_type": "markdown",
      "source": "# Documentación de ejercicios en Python\n## Sentencias condiconales complejas\n1.Sentencias condicionales complejas: verdadera\n",
      "metadata": {}
    },
    {
      "cell_type": "code",
      "source": "print (\"Estaremos realizando una sentencia condicional compleja\")\n# Crearemos una variable que compararemos con el uso de una sentencia condicional verdadera.\nnum_uno = 10\nif num_uno == 10:\n    print (\"El número es 10\")\nelse:\n    print (\"El número no es 10\")\nprint (\"fin\")\n",
      "metadata": {
        "trusted": true
      },
      "execution_count": null,
      "outputs": []
    },
    {
      "cell_type": "markdown",
      "source": "Estaremos realizando una sentencia condicional compleja \nEl número es 10\nfin",
      "metadata": {}
    },
    {
      "cell_type": "markdown",
      "source": "2.Setencias condicionales complejas:falsa",
      "metadata": {}
    },
    {
      "cell_type": "code",
      "source": "print (\"Estaremos realizando una sentencia condiconal compleja falsa\")\n# Crearemos una variables que compararemos con el uso de una sentencia condicional falsa.\nnum_Uno = 12\nif num_Uno == 11:\n    print (\"El número es 12\")\nelse :\n    print (\"El número no es 12\")\nprint (\"Fin\")",
      "metadata": {
        "trusted": true
      },
      "execution_count": 2,
      "outputs": [
        {
          "name": "stdout",
          "text": "Estaremos realizando una sentencia condiconal compleja falsa\nEl número no es 12\nFin\n",
          "output_type": "stream"
        }
      ]
    },
    {
      "cell_type": "code",
      "source": "",
      "metadata": {},
      "execution_count": null,
      "outputs": []
    }
  ]
}