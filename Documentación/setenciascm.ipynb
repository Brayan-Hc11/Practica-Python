{
  "metadata": {
    "language_info": {
      "codemirror_mode": {
        "name": "python",
        "version": 3
      },
      "file_extension": ".py",
      "mimetype": "text/x-python",
      "name": "python",
      "nbconvert_exporter": "python",
      "pygments_lexer": "ipython3",
      "version": "3.8"
    },
    "kernelspec": {
      "name": "python",
      "display_name": "Python (Pyodide)",
      "language": "python"
    }
  },
  "nbformat_minor": 4,
  "nbformat": 4,
  "cells": [
    {
      "cell_type": "markdown",
      "source": "# Documentación de ejercicios en Python\n## Setencias condicionales múltiples\n1.Setencias condicionales multiples: caso 1",
      "metadata": {}
    },
    {
      "cell_type": "code",
      "source": "print (\"Estaremos realizando una sentencia condicional multiple caso 1\")\n# Una sentencia condicional simple nos permite agregar mas condiones.\n#establecemos una variable con un valor.\nnum_uno = 1\n#Establecemos una sentencia condicional con varias instrucciones.\nif num_uno == 1:\n    print (\"El número es uno \")\nelif num_uno == 2:\n    print (\"El número es dos \")\nelse :\n    print (\"El número se desconoce\")\nprint (\"fin\")",
      "metadata": {
        "trusted": true
      },
      "execution_count": 1,
      "outputs": [
        {
          "name": "stdout",
          "text": "Estaremos realizando una sentencia condicional multiple caso 1\nEl número es uno \nfin\n",
          "output_type": "stream"
        }
      ]
    },
    {
      "cell_type": "markdown",
      "source": "2.Setencias condicionales múltiples: caso 2",
      "metadata": {}
    },
    {
      "cell_type": "code",
      "source": "# Segundo caso en donde se cumple la segunda condición.\nprint (\"Estaremos realizando una sentencia condicional multiple caso 2\")\n# Establecemos una variable con un valor.\nnum_dos = 2\n# Establecemos una sentencia condicional multiple.\nif num_dos == 1 :\n    print (\"El número es uno \")\nelif num_dos == 2 :\n    print (\"El número es dos \")\nelse :\n    print (\"El número se desconoce\")\nprint (\"Fin\")",
      "metadata": {
        "trusted": true
      },
      "execution_count": 2,
      "outputs": [
        {
          "name": "stdout",
          "text": "Estaremos realizando una sentencia condicional multiple caso 2\nEl número es dos \nFin\n",
          "output_type": "stream"
        }
      ]
    },
    {
      "cell_type": "markdown",
      "source": "3.Setencias condicionales múltiples : caso 3",
      "metadata": {}
    },
    {
      "cell_type": "code",
      "source": "# Tercer caso en donde no se cumple ninguna de las condiciones establecidas.\nprint (\"Estaremos realizando una sentencia condicional multiple caso 3\")\n# Establecemos una variable con un valor.\nnum_tres = 3\n# Establecemos una sentencia condicional multiple.\nif num_tres == 1:\n    print (\"El número es uno \")\nelif num_tres == 2 :\n    print (\"El número es dos \")\nelse :\n    print (\"El número se desconoce\")\nprint (\"fin\")",
      "metadata": {
        "trusted": true
      },
      "execution_count": 3,
      "outputs": [
        {
          "name": "stdout",
          "text": "Estaremos realizando una sentencia condicional multiple caso 3\nEl número se desconoce\nfin\n",
          "output_type": "stream"
        }
      ]
    }
  ]
}