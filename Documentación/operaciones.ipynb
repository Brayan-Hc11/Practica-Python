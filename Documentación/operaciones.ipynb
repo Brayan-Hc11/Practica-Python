{
  "metadata": {
    "language_info": {
      "codemirror_mode": {
        "name": "python",
        "version": 3
      },
      "file_extension": ".py",
      "mimetype": "text/x-python",
      "name": "python",
      "nbconvert_exporter": "python",
      "pygments_lexer": "ipython3",
      "version": "3.8"
    },
    "kernelspec": {
      "name": "python",
      "display_name": "Python (Pyodide)",
      "language": "python"
    }
  },
  "nbformat_minor": 4,
  "nbformat": 4,
  "cells": [
    {
      "cell_type": "markdown",
      "source": "# Documentación de ejercicios con Python\n## Operaciones Arítmeticas \n1.Operaciones Arítmeticas : El exponente. ",
      "metadata": {}
    },
    {
      "cell_type": "code",
      "source": "print (\"Estaremos usando el exponente\")\nprint (\"2**5=\")\n# variables en donde guardaremos los digitos de la operación\nnumero = 2\nexponente =5\n# variable en donde se realiza la operación y almacenamos el resultado \nresultado = numero ** exponente\nprint (\"Este es el resultado de la potencia:\" + str (resultado))\n",
      "metadata": {
        "trusted": true
      },
      "execution_count": 1,
      "outputs": [
        {
          "name": "stdout",
          "text": "Estaremos usando el exponente\n2**5=\nEste es el resultado de la potencia:32\n",
          "output_type": "stream"
        }
      ]
    },
    {
      "cell_type": "markdown",
      "source": "2.Operaciones arítmeticas:Modulo o Resto:",
      "metadata": {}
    },
    {
      "cell_type": "code",
      "source": "print (\"Estaremos usando el modulo o resto\")\nprint (\"30 % 8 = \")\n# Estas son las variables en donde almacenaremos los digitos de la operación.\nnumero_uno = 30\nnumero_dos = 8\n# Variable en donde se realizará la operación y nos guardará el resultado de esta.\nresultado = numero_uno % numero_dos\nprint (\"Este es el resultado de la oprecaión :\" + str (resultado))\n",
      "metadata": {
        "trusted": true
      },
      "execution_count": 2,
      "outputs": [
        {
          "name": "stdout",
          "text": "Estaremos usando el modulo o resto\n30 % 8 = \nEste es el resultado de la oprecaión :6\n",
          "output_type": "stream"
        }
      ]
    },
    {
      "cell_type": "markdown",
      "source": "3.Operaciones arítmeticas:La Divición.",
      "metadata": {}
    },
    {
      "cell_type": "code",
      "source": "print (\"Estaremos usdnado  la divición\")\nprint (\"30/8=\")\n# Creamos variables en donde se guarden los digitos de la operación.\nnumero_uno = 30\nnumero_dos = 8\n# Creamos una variable en la cual se realizara la operación y se nos guardará el resultado.\nresultado = numero_uno / numero_dos\nprint (\"Este es el resultado de la operación:\" + str (resultado))\n",
      "metadata": {
        "trusted": true
      },
      "execution_count": 12,
      "outputs": [
        {
          "name": "stdout",
          "text": "Estaremos usdnado  la divición\n30/8=\nEste es el resultado de la operación:3.75\n",
          "output_type": "stream"
        }
      ]
    },
    {
      "cell_type": "markdown",
      "source": "4.Operaciones arítmeticas:La Divición Entera.",
      "metadata": {}
    },
    {
      "cell_type": "code",
      "source": "print (\"Estaremos usdnado  la divición compuesta\")\nprint (\"30//8=\")\n# Crearemos unas variables en donde se alojen los digitos de la opercaión \nnumero_uno = 30\nnumero_dos = 8\n# Creamos una variable en la cual se realizara la operación y se nos guardará el resultado.\n# La divición entera o cmpuesta nos permite dar un resultado en números enteros omitiendo los numeros reales .\nresultado = numero_uno // numero_dos\nprint (\"Este es el resultado de la operación:\" + str (resultado))\n",
      "metadata": {
        "trusted": true
      },
      "execution_count": 13,
      "outputs": [
        {
          "name": "stdout",
          "text": "Estaremos usdnado  la divición compuesta\n30//8=\nEste es el resultado de la operación:3\n",
          "output_type": "stream"
        }
      ]
    },
    {
      "cell_type": "markdown",
      "source": "5.Operaciones arítmeticas:La Multiplicación.",
      "metadata": {}
    },
    {
      "cell_type": "code",
      "source": "print (\"Estaremos usando la multiplicación\")\nprint (\"4*4=\")\n# Crearemos unas variables en donde se guarden los digitos de nustra operación.\nnumero_uno = 4\nnumero_dos = 4\n# Crearemos una variable en donde se relaice la operación y se guarde el resultado. \nresultado = numero_uno * numero_dos\nprint (\"Este es el resultado de la multiplicación:  \" + str (resultado))\n",
      "metadata": {
        "trusted": true
      },
      "execution_count": 14,
      "outputs": [
        {
          "name": "stdout",
          "text": "Estaremos usando la multiplicación\n4*4=\nEste es el resultado de la multiplicación:  16\n",
          "output_type": "stream"
        }
      ]
    },
    {
      "cell_type": "markdown",
      "source": "6.Operaciones arítmeticas:La Resta ",
      "metadata": {}
    },
    {
      "cell_type": "code",
      "source": "print (\"Estaremos realizando una resta\")\nprint (\"8-5\")\n# Crearemos unas variables en donde se guarden los digitos de nustra operación.\nnumero_uno = 8\nnumero_dos = 5\n# Crearemos una variable en donde se relaice la operación y se guarde el resultado.\nresultado = numero_uno - numero_dos\nprint (\"Este es el reslutado de la resta :\" + str (resultado))\n",
      "metadata": {
        "trusted": true
      },
      "execution_count": 15,
      "outputs": [
        {
          "name": "stdout",
          "text": "Estaremos realizando una resta\n8-5\nEste es el reslutado de la resta :3\n",
          "output_type": "stream"
        }
      ]
    },
    {
      "cell_type": "markdown",
      "source": "7.Operaciones arítmeticas:La Suma.",
      "metadata": {}
    },
    {
      "cell_type": "code",
      "source": "print (\"Estaremos realizando una suma\")\nprint (\"2+5=\")\n# Crearemos unas variables en donde se guarden los digitos de nustra operación.\nnumero_uno = 2\nnumero_dos = 5\n# Crearemos una variable en donde se relaice la operación y se guarde el resultado.\nresultado = numero_uno + numero_dos\nprint (\"Este es el resultado de la suma :\" + str (resultado))\n",
      "metadata": {
        "trusted": true
      },
      "execution_count": 16,
      "outputs": [
        {
          "name": "stdout",
          "text": "Estaremos realizando una suma\n2+5=\nEste es el resultado de la suma :7\n",
          "output_type": "stream"
        }
      ]
    },
    {
      "cell_type": "code",
      "source": "",
      "metadata": {},
      "execution_count": null,
      "outputs": []
    }
  ]
}