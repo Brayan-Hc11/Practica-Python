{
  "metadata": {
    "language_info": {
      "codemirror_mode": {
        "name": "python",
        "version": 3
      },
      "file_extension": ".py",
      "mimetype": "text/x-python",
      "name": "python",
      "nbconvert_exporter": "python",
      "pygments_lexer": "ipython3",
      "version": "3.8"
    },
    "kernelspec": {
      "name": "python",
      "display_name": "Python (Pyodide)",
      "language": "python"
    }
  },
  "nbformat_minor": 4,
  "nbformat": 4,
  "cells": [
    {
      "cell_type": "markdown",
      "source": "# Documentación de ejercicios con Python\n## comentarios en Python \n\n1.Formas de hacer un comentario en Python.",
      "metadata": {}
    },
    {
      "cell_type": "code",
      "source": "print (\"aprenderemos a usar los diferentes simbolos para poder hacer un comentario\")\nprint (\"la primera forma de hacer un comentario de una sola linea usaremos el simbolo de gato(#)\")\n#Esto es el uso del simbolo de gato en un comentario\nprint (\"la segunda forma de hacer un comentariio de una sola linea usaremos las comillas (\"\")\")\n\"Esto es el uso de las comillas dodles para hacer un comentario de una sola linea \"\nprint (\"la tercera forma de  hacer un comentario de varias linas usaremos las comillas en juegos de tres (''')\")\n'''Esto es el uso de las comilas simples para\npoder hacer un comentariode varias lineas'''\n",
      "metadata": {
        "trusted": true
      },
      "execution_count": 1,
      "outputs": [
        {
          "name": "stdout",
          "text": "aprenderemos a usar los diferentes simbolos para poder hacer un comentario\nla primera forma de hacer un comentario de una sola linea usaremos el simbolo de gato(#)\nla segunda forma de hacer un comentariio de una sola linea usaremos las comillas ()\nla tercera forma de  hacer un comentario de varias linas usaremos las comillas en juegos de tres (''')\n",
          "output_type": "stream"
        },
        {
          "execution_count": 1,
          "output_type": "execute_result",
          "data": {
            "text/plain": "'Esto es el uso de las comilas simples para\\npoder hacer un comentariode varias lineas'"
          },
          "metadata": {}
        }
      ]
    },
    {
      "cell_type": "code",
      "source": "",
      "metadata": {},
      "execution_count": null,
      "outputs": []
    }
  ]
}