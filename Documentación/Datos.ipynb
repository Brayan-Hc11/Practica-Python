{
  "metadata": {
    "language_info": {
      "codemirror_mode": {
        "name": "python",
        "version": 3
      },
      "file_extension": ".py",
      "mimetype": "text/x-python",
      "name": "python",
      "nbconvert_exporter": "python",
      "pygments_lexer": "ipython3",
      "version": "3.8"
    },
    "kernelspec": {
      "name": "python",
      "display_name": "Python (Pyodide)",
      "language": "python"
    }
  },
  "nbformat_minor": 4,
  "nbformat": 4,
  "cells": [
    {
      "cell_type": "markdown",
      "source": "# Documentación de ejercicios con Python\n## Tipos de datos en Python\n\n1.Distintos tipos de datos que se usan en Python ",
      "metadata": {}
    },
    {
      "cell_type": "code",
      "source": "#Tipo de dato: entero o largo\nnumero_entero = 15\nprint (numero_entero, type (numero_entero))\n\n#Tipo de dato: flotante\nnumero_flotante = 15.5\nprint (numero_flotante, type (numero_flotante))\n\n#Tipo de dato:Número complejo\nnumero_complejo = 9 + 6j\nprint (numero_complejo, type (numero_complejo))\n\n#Tipo de dato:string\nnombre = \"hola mundo\"\nprint (nombre ,type (nombre))\n\n#Tipo de dato:booleano\nverdadero_falso = 5 == 7\nprint (verdadero_falso, type (verdadero_falso))\n",
      "metadata": {
        "trusted": true
      },
      "execution_count": 1,
      "outputs": [
        {
          "name": "stdout",
          "text": "15 <class 'int'>\n15.5 <class 'float'>\n(9+6j) <class 'complex'>\nhola mundo <class 'str'>\nFalse <class 'bool'>\n",
          "output_type": "stream"
        }
      ]
    },
    {
      "cell_type": "markdown",
      "source": "## El uso de variables en Python\n2.Este es un uso de variables dentro de Python.",
      "metadata": {}
    },
    {
      "cell_type": "code",
      "source": "print (\"estaremos usando variables por primera vez en Python \")\nprint (\"Esto es una suma\")\nprint (\"1+2=\")\nnumero_uno = 1\nnumero_dos = 2\nresultado = numero_uno + numero_dos\nprint (resultado)\n",
      "metadata": {
        "trusted": true
      },
      "execution_count": 2,
      "outputs": [
        {
          "name": "stdout",
          "text": "estaremos usando variables por primera vez en Python \nEsto es una suma\n1+2=\n3\n",
          "output_type": "stream"
        }
      ]
    },
    {
      "cell_type": "markdown",
      "source": "## Imprimiendo en Python\n3.Asi se imprime en Python",
      "metadata": {}
    },
    {
      "cell_type": "code",
      "source": "print (\"estamos imprimiendo texto por primera vez en Python\")\nprint (\"HOLA MUNDO \")\nprint (\"Estoy aprendiendo Python\")\n",
      "metadata": {
        "trusted": true
      },
      "execution_count": 3,
      "outputs": [
        {
          "name": "stdout",
          "text": "estamos imprimiendo texto por primera vez en Python\nHOLA MUNDO \nEstoy aprendiendo Python\n",
          "output_type": "stream"
        }
      ]
    },
    {
      "cell_type": "code",
      "source": "",
      "metadata": {},
      "execution_count": null,
      "outputs": []
    }
  ]
}