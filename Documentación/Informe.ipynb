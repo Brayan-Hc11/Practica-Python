{
 "cells": [
  {
   "cell_type": "markdown",
   "metadata": {},
   "source": [
    "# Documentación de ejercicios con Python"
   ]
  },
  {
   "cell_type": "markdown",
   "metadata": {},
   "source": [
    "#### Cadenas de caracteres, la asignación."
   ]
  },
  {
   "cell_type": "markdown",
   "metadata": {},
   "source": [
    "1. Cadenas de caracteres la asignación."
   ]
  },
  {
   "cell_type": "code",
   "execution_count": 4,
   "metadata": {},
   "outputs": [
    {
     "name": "stdout",
     "output_type": "stream",
     "text": [
      "Estaremos usando la asignación\n",
      "Resultado:  Hola mundo estamos usando la asginación :)\n"
     ]
    }
   ],
   "source": [
    "print (\"Estaremos usando la asignación\")\n",
    "mensaje = \"Hola mundo\"\n",
    "#Agregamos un espacio\n",
    "mensaje += \" \"\n",
    "#Agregamos una cadena de texto\n",
    "mensaje += \"estamos usando la asginación :)\"\n",
    "print (\"Resultado: \",mensaje)"
   ]
  },
  {
   "cell_type": "markdown",
   "metadata": {},
   "source": [
    "2. Cadenas de caracteres, la busqueda."
   ]
  },
  {
   "cell_type": "code",
   "execution_count": 7,
   "metadata": {},
   "outputs": [
    {
     "name": "stdout",
     "output_type": "stream",
     "text": [
      "Estaremos usando la busqueda\n",
      "La palabra se encuantra apartir del caracter  19\n"
     ]
    }
   ],
   "source": [
    "print (\"Estaremos usando la busqueda\")\n",
    "# Creamos un mensaje\n",
    "mensaje = \"hola mundo,estamos usando la busqueda\"\n",
    "# Buscamos la palabra \"usando\"\n",
    "buscar_subcadena = mensaje.find (\"usando\")\n",
    "print (\"La palabra se encuantra apartir del caracter \",buscar_subcadena)"
   ]
  },
  {
   "cell_type": "markdown",
   "metadata": {},
   "source": [
    "3. Cadenas de caracteres, la comparación."
   ]
  },
  {
   "cell_type": "code",
   "execution_count": 11,
   "metadata": {},
   "outputs": [
    {
     "name": "stdout",
     "output_type": "stream",
     "text": [
      "Estaremos usando la comparación\n",
      "Verificamos el resultado:  True\n",
      "Verificamos el resultado:  True\n"
     ]
    }
   ],
   "source": [
    "print (\"Estaremos usando la comparación\")\n",
    "# Creamos tres cadenas de texto\n",
    "mensaje_uno = \"hola mundo\"\n",
    "mensaje_dos = \"hola mundo\"\n",
    "mensaje_tres = \"hola mund\"\n",
    "# Comparamos las cadenas de texto con el operador ==\n",
    "print(\"Verificamos el resultado: \", mensaje_uno == mensaje_dos)\n",
    "# Comparamos las cadenas de texto con el operador !=\n",
    "print(\"Verificamos el resultado: \", mensaje_uno != mensaje_tres)\n",
    "# Comparamos las cadenas de texto con el operador !=\n",
    "print(\"Verificamos el resultado: \", mensaje_uno == mensaje_tres)"
   ]
  },
  {
   "cell_type": "markdown",
   "metadata": {},
   "source": [
    "4. Cadenas de caracteres, la concatenación."
   ]
  },
  {
   "cell_type": "code",
   "execution_count": 13,
   "metadata": {},
   "outputs": [
    {
     "name": "stdout",
     "output_type": "stream",
     "text": [
      "Estaremos usando la concatenación\n",
      "El resultado obtenido es: \n",
      "Hola  mundo estamos usando la concatenación :)\n"
     ]
    }
   ],
   "source": [
    "print (\"Estaremos usando la concatenación\")\n",
    "# Creamos dos cadenas de texto\n",
    "dialogoUno = \"Hola \"\n",
    "dialogoDos = \"mundo\"\n",
    "dialogoTres = \"estamos usando\"\n",
    "dialogoCuatro = \"la concatenación\"\n",
    "gesto = \":)\"\n",
    "espacio = \" \"\n",
    "# Concatenamos una cadena de texto implentando el operador + (Concatenación)\n",
    "print (\"El resultado obtenido es: \")\n",
    "print (dialogoUno + espacio + dialogoDos + espacio + dialogoTres + espacio + dialogoCuatro + espacio + gesto)"
   ]
  },
  {
   "cell_type": "markdown",
   "metadata": {},
   "source": [
    "5. Cadenas de caracteres, la extracción."
   ]
  },
  {
   "cell_type": "code",
   "execution_count": 16,
   "metadata": {},
   "outputs": [
    {
     "name": "stdout",
     "output_type": "stream",
     "text": [
      "Hola mundo, estamos usando la extracción\n",
      "Hemos extraido:  Hola\n",
      "Hemos extraido:  estamos  usando l\n"
     ]
    }
   ],
   "source": [
    "print (\"Hola mundo, estamos usando la extracción\")\n",
    "# Creamos una cadena de texto\n",
    "mensaje = \"Hola mundo,estamos  usando la extracción\"\n",
    "# Extraemos una subcadena de la cadena de texto determinando desde que caracter hasta que caracter\n",
    "extraer_subcadena = mensaje[11:28]\n",
    "# Extraemos solamente el \"hola\" de la cadena de texto \n",
    "extraer_hola= mensaje[0:4]\n",
    "# Hola de la cadena de texto\n",
    "print (\"Hemos extraido: \",extraer_hola)\n",
    "# FRagmento de la cadena de texto\n",
    "print (\"Hemos extraido: \", extraer_subcadena)"
   ]
  }
 ],
 "metadata": {
  "kernelspec": {
   "display_name": "Python 3.10.8 64-bit",
   "language": "python",
   "name": "python3"
  },
  "language_info": {
   "codemirror_mode": {
    "name": "ipython",
    "version": 3
   },
   "file_extension": ".py",
   "mimetype": "text/x-python",
   "name": "python",
   "nbconvert_exporter": "python",
   "pygments_lexer": "ipython3",
   "version": "3.10.8"
  },
  "orig_nbformat": 4,
  "vscode": {
   "interpreter": {
    "hash": "472fbeedb143d593a450bd9e85487ed0b7b7bb937fd0ffdfb685f7804c557ff7"
   }
  }
 },
 "nbformat": 4,
 "nbformat_minor": 2
}
