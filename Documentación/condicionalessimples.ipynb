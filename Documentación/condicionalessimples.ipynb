{
  "metadata": {
    "language_info": {
      "codemirror_mode": {
        "name": "python",
        "version": 3
      },
      "file_extension": ".py",
      "mimetype": "text/x-python",
      "name": "python",
      "nbconvert_exporter": "python",
      "pygments_lexer": "ipython3",
      "version": "3.8"
    },
    "kernelspec": {
      "name": "python",
      "display_name": "Python (Pyodide)",
      "language": "python"
    }
  },
  "nbformat_minor": 4,
  "nbformat": 4,
  "cells": [
    {
      "cell_type": "markdown",
      "source": "# Documentación de ejercicios con Python\n## Sentencias condicionales \n1.Sentencias condicinales simples verdaderas.",
      "metadata": {}
    },
    {
      "cell_type": "code",
      "source": "# Aprenseremos a usar las sentencias condicionales simples verdaderas.\nprint (\"Esta es una sentencia condiconal simple verdadera \")\n# Crearemos una variables en donde alojaremos el dato que queremos comparar \nnum_uno = 8\n# Usamos el comando if para hacer una sentencia condicional en donde nos compará el valor de la variable inical \nif num_uno == 8:\n    print (\"El numero es 8\")\nprint (\"fin \")\n",
      "metadata": {
        "trusted": true
      },
      "execution_count": 4,
      "outputs": [
        {
          "name": "stdout",
          "text": "Esta es una sentencia condiconal simple verdadera \nEl numero es 8\nfin \n",
          "output_type": "stream"
        }
      ]
    },
    {
      "cell_type": "markdown",
      "source": "2.Sentencias condicionales simples falsas.",
      "metadata": {}
    },
    {
      "cell_type": "code",
      "source": "# Aprenseremos a usar las sentencias condicionales simples falsas.\nprint (\"Esta es una sentencia condiconal simple falsa \")\n# Crearemos una variables en donde alojaremos el dato que queremos comparar \nnum_dos = 100\n# Usamos el comando if para hacer una sentencia condicional en donde nos compará el valor de la variable inical \nif num_dos == 99:\n    print (\"El número es 100\")\nprint (\"fin \")",
      "metadata": {
        "trusted": true
      },
      "execution_count": 6,
      "outputs": [
        {
          "name": "stdout",
          "text": "Esta es una sentencia condiconal simple falsa \nfin \n",
          "output_type": "stream"
        }
      ]
    }
  ]
}